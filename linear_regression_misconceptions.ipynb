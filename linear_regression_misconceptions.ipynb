{
 "cells": [
  {
   "cell_type": "markdown",
   "metadata": {},
   "source": [
    "Misconception 1: OLS same as linreg"
   ]
  },
  {
   "cell_type": "code",
   "execution_count": 1,
   "metadata": {},
   "outputs": [],
   "source": [
    "# create toy example, estimate"
   ]
  },
  {
   "cell_type": "code",
   "execution_count": 103,
   "metadata": {},
   "outputs": [],
   "source": [
    "import numpy as np\n",
    "import pandas as pd\n",
    "from sklearn.linear_model import LinearRegression, Lasso, Ridge, SGDRegressor\n",
    "import matplotlib.pyplot as plt\n",
    "import seaborn as sns\n",
    "plt.style.use(\"seaborn\")\n",
    "import statsmodels.formula.api as smf"
   ]
  },
  {
   "cell_type": "code",
   "execution_count": 97,
   "metadata": {},
   "outputs": [],
   "source": [
    "my_seed = 20210228"
   ]
  },
  {
   "cell_type": "code",
   "execution_count": 98,
   "metadata": {},
   "outputs": [],
   "source": [
    "number_of_obs = 50\n",
    "np.random.seed(my_seed)\n",
    "X = np.random.uniform(0, 100, number_of_obs)\n",
    "residuals = np.random.normal(0, 30, number_of_obs)\n",
    "y = X + residuals\n",
    "X = X.reshape(-1,1)"
   ]
  },
  {
   "cell_type": "code",
   "execution_count": 99,
   "metadata": {},
   "outputs": [],
   "source": [
    "lr = LinearRegression()\n",
    "y_pred_lr = lr.fit(X,y).predict(X)"
   ]
  },
  {
   "cell_type": "code",
   "execution_count": 100,
   "metadata": {},
   "outputs": [],
   "source": [
    "# this does not seem to work\n",
    "sgd = SGDRegressor(loss = 'epsilon_insensitive', epsilon = 0, penalty = 'l2')\n",
    "y_pred_sgd = sgd.fit(X,y).predict(X)"
   ]
  },
  {
   "cell_type": "code",
   "execution_count": 110,
   "metadata": {},
   "outputs": [],
   "source": [
    "df = np.concatenate([X[:,0],y])"
   ]
  },
  {
   "cell_type": "code",
   "execution_count": 111,
   "metadata": {},
   "outputs": [
    {
     "data": {
      "text/plain": [
       "array([  3.60726567,  85.04779852,  63.87322794,  83.29694247,\n",
       "        67.02070454,  82.54758339,  73.66556881,  33.30301375,\n",
       "        31.91863893,  87.39330431,  65.91946754,  87.75648812,\n",
       "        85.10851609,   7.39919981,  14.19280043,  15.26379318,\n",
       "        30.64267771,  74.91215632,  14.27291292,  89.69442842,\n",
       "        91.76060374,  48.85936305,  27.4625871 ,  90.46736414,\n",
       "        64.27032434,   3.99792005,  36.29854853,  43.20726348,\n",
       "        23.80574918,  11.2524098 ,  53.64460507,   2.61934476,\n",
       "        48.11804234,  54.19778742,  38.14443997,  55.38012444,\n",
       "        71.1536777 ,  33.78835376,  40.75525268,  63.25727838,\n",
       "        57.76587359,  87.15985049,  24.02020491,  93.32603609,\n",
       "        64.56447806,  90.74587491,  27.58444447,   7.57070042,\n",
       "        74.95236068,  26.45050482, -22.87495631, 109.53772275,\n",
       "        37.67549065,  82.5637603 ,  98.96035676, 101.9939112 ,\n",
       "        49.96888224,  31.33511164,   0.84346708,  73.60219551,\n",
       "        79.25002839, 102.74620705,  69.41331609,  50.00725923,\n",
       "       -22.79466029, -12.09536908,  58.70796419,  73.91620279,\n",
       "        13.98368024,  93.47404308, 103.01891174, -22.04910296,\n",
       "       -11.67898359,  69.6323018 ,  33.26967482, -10.81706979,\n",
       "        17.86621748,  22.81520616, 100.35654622,   7.99759857,\n",
       "        64.46151347, -36.68300873,  48.22899337,  33.55454199,\n",
       "        45.09291633,  62.42031201,  79.31990528,  53.88887088,\n",
       "        61.73565125,  17.35345086,  85.72397643,  86.83486174,\n",
       "        41.44092933, 109.42725599, 117.36544858, 104.56030553,\n",
       "         7.24202151, -69.70957531, 110.85836925,  52.50111119])"
      ]
     },
     "execution_count": 111,
     "metadata": {},
     "output_type": "execute_result"
    }
   ],
   "source": [
    "df"
   ]
  },
  {
   "cell_type": "code",
   "execution_count": null,
   "metadata": {},
   "outputs": [],
   "source": [
    "mod = smf.quantreg('y ~ x', df)\n",
    "res = mod.fit(q=.5)"
   ]
  },
  {
   "cell_type": "code",
   "execution_count": 101,
   "metadata": {},
   "outputs": [
    {
     "data": {
      "image/png": "[encoded data removed]",
      "text/plain": [
       "<Figure size 576x576 with 1 Axes>"
      ]
     },
     "metadata": {},
     "output_type": "display_data"
    }
   ],
   "source": [
    "plt.figure(figsize  = (8,8))\n",
    "plt.scatter(X[:,0], y)\n",
    "plt.plot(X, y_pred_lr, label = 'Ordinary Least Squares')\n",
    "plt.plot(X, y_pred_sgd, label = 'Least Absolute Deviations')\n",
    "\n",
    "# plt.plot(X, Lasso().fit(X,y).predict(X), label = 'Lasso')\n",
    "# plt.plot(X, Ridge().fit(X,y).predict(X), label = 'Ridge')\n",
    "plt.legend()\n",
    "plt.show()"
   ]
  },
  {
   "cell_type": "markdown",
   "metadata": {},
   "source": [
    "to get the least absolute deviation, I used: https://stats.stackexchange.com/questions/376643/is-there-any-library-for-least-absolute-deviation-lad-regression-with-regulari"
   ]
  },
  {
   "cell_type": "code",
   "execution_count": null,
   "metadata": {},
   "outputs": [],
   "source": []
  }
 ],
 "metadata": {
  "kernelspec": {
   "display_name": "Python 3",
   "language": "python",
   "name": "python3"
  },
  "language_info": {
   "codemirror_mode": {
    "name": "ipython",
    "version": 3
   },
   "file_extension": ".py",
   "mimetype": "text/x-python",
   "name": "python",
   "nbconvert_exporter": "python",
   "pygments_lexer": "ipython3",
   "version": "3.7.4"
  },
  "toc": {
   "base_numbering": 1,
   "nav_menu": {},
   "number_sections": true,
   "sideBar": true,
   "skip_h1_title": false,
   "title_cell": "Table of Contents",
   "title_sidebar": "Contents",
   "toc_cell": false,
   "toc_position": {},
   "toc_section_display": true,
   "toc_window_display": false
  },
  "varInspector": {
   "cols": {
    "lenName": 16,
    "lenType": 16,
    "lenVar": 40
   },
   "kernels_config": {
    "python": {
     "delete_cmd_postfix": "",
     "delete_cmd_prefix": "del ",
     "library": "var_list.py",
     "varRefreshCmd": "print(var_dic_list())"
    },
    "r": {
     "delete_cmd_postfix": ") ",
     "delete_cmd_prefix": "rm(",
     "library": "var_list.r",
     "varRefreshCmd": "cat(var_dic_list()) "
    }
   },
   "types_to_exclude": [
    "module",
    "function",
    "builtin_function_or_method",
    "instance",
    "_Feature"
   ],
   "window_display": false
  }
 },
 "nbformat": 4,
 "nbformat_minor": 2
}
