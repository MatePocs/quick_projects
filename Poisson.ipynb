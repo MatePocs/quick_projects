{
 "cells": [
  {
   "cell_type": "markdown",
   "id": "c0810520",
   "metadata": {},
   "source": [
    "# Intro"
   ]
  },
  {
   "cell_type": "markdown",
   "id": "e46494fb",
   "metadata": {},
   "source": [
    "Purpose of this notebook: \n",
    "- summarise Poisson distribution\n",
    "- demonstrate how days at risk impacts frequency modelling\n",
    "- do some math works\n",
    "\n",
    "What I will deliberately not do: visualisations. "
   ]
  },
  {
   "cell_type": "code",
   "execution_count": 39,
   "id": "2bfc1efa",
   "metadata": {},
   "outputs": [],
   "source": [
    "import numpy as np\n",
    "import pandas as pd\n",
    "from scipy.special import factorial # for elementwise factorial calc of array"
   ]
  },
  {
   "cell_type": "markdown",
   "id": "c1054138",
   "metadata": {},
   "source": [
    "# Poisson Theory"
   ]
  },
  {
   "cell_type": "markdown",
   "id": "85904ad2",
   "metadata": {},
   "source": [
    "Copying everything from the [wikipedia page](https://en.wikipedia.org/wiki/Poisson_distribution). "
   ]
  },
  {
   "cell_type": "markdown",
   "id": "b0fd5062",
   "metadata": {},
   "source": [
    "__Parameters__: $\\lambda \\in (0, \\infty)$, this is the mean and variance as well  \n",
    "__Probability Mass Function__: $\\displaystyle \\frac{\\lambda ^ {k} e ^ {- \\lambda}} {k!}$"
   ]
  },
  {
   "cell_type": "code",
   "execution_count": 41,
   "id": "00b3aa90",
   "metadata": {},
   "outputs": [],
   "source": [
    "def poisson_likelihood(actu, pred):\n",
    "    # the factorial is from the scipy package\n",
    "    return (np.power(pred, actu)) * np.exp(-pred) / factorial(actu)\n",
    "\n",
    "\n",
    "def poisson_loglikelihood(actu, pred):\n",
    "    return np.log(poisson_likelihood(actu, pred))"
   ]
  },
  {
   "cell_type": "code",
   "execution_count": null,
   "id": "fa9081c8",
   "metadata": {},
   "outputs": [],
   "source": []
  },
  {
   "cell_type": "code",
   "execution_count": null,
   "id": "17b0e208",
   "metadata": {},
   "outputs": [],
   "source": []
  },
  {
   "cell_type": "code",
   "execution_count": null,
   "id": "e812889a",
   "metadata": {},
   "outputs": [],
   "source": []
  },
  {
   "cell_type": "markdown",
   "id": "a6c642be",
   "metadata": {},
   "source": [
    "# Generate Data"
   ]
  },
  {
   "cell_type": "code",
   "execution_count": 21,
   "id": "5713cfdb",
   "metadata": {},
   "outputs": [],
   "source": [
    "# first data is just bunch of Poissons\n",
    "lambda1 = 0.4\n",
    "n1 = 10000\n",
    "df1 = pd.DataFrame.from_dict({'target': np.random.poisson(lambda1, n1)})"
   ]
  },
  {
   "cell_type": "code",
   "execution_count": null,
   "id": "f7cb7f0e",
   "metadata": {},
   "outputs": [],
   "source": []
  },
  {
   "cell_type": "code",
   "execution_count": null,
   "id": "7e05e3cd",
   "metadata": {},
   "outputs": [],
   "source": []
  },
  {
   "cell_type": "code",
   "execution_count": null,
   "id": "8fb5c922",
   "metadata": {},
   "outputs": [],
   "source": []
  },
  {
   "cell_type": "markdown",
   "id": "ccf79af2",
   "metadata": {},
   "source": [
    "# Maximum Likelihood Demonstration"
   ]
  },
  {
   "cell_type": "markdown",
   "id": "511c779f",
   "metadata": {},
   "source": [
    "Goal here: demonstrate that the highest likelihood is achieved with simply average. "
   ]
  },
  {
   "cell_type": "code",
   "execution_count": 50,
   "id": "6c82ac0c",
   "metadata": {},
   "outputs": [],
   "source": [
    "ml1 = pd.DataFrame({'lambda':np.linspace(0.01,1,100)})"
   ]
  },
  {
   "cell_type": "code",
   "execution_count": null,
   "id": "e087e4b8",
   "metadata": {},
   "outputs": [],
   "source": [
    "ml1['poisson_loglikelihood'] = "
   ]
  },
  {
   "cell_type": "code",
   "execution_count": null,
   "id": "5b8808af",
   "metadata": {},
   "outputs": [],
   "source": []
  },
  {
   "cell_type": "code",
   "execution_count": null,
   "id": "1ab2bab1",
   "metadata": {},
   "outputs": [],
   "source": []
  },
  {
   "cell_type": "code",
   "execution_count": null,
   "id": "dc10ba75",
   "metadata": {},
   "outputs": [],
   "source": []
  }
 ],
 "metadata": {
  "kernelspec": {
   "display_name": "Python 3 (ipykernel)",
   "language": "python",
   "name": "python3"
  },
  "language_info": {
   "codemirror_mode": {
    "name": "ipython",
    "version": 3
   },
   "file_extension": ".py",
   "mimetype": "text/x-python",
   "name": "python",
   "nbconvert_exporter": "python",
   "pygments_lexer": "ipython3",
   "version": "3.9.12"
  },
  "toc": {
   "base_numbering": 1,
   "nav_menu": {},
   "number_sections": true,
   "sideBar": true,
   "skip_h1_title": false,
   "title_cell": "Table of Contents",
   "title_sidebar": "Contents",
   "toc_cell": false,
   "toc_position": {},
   "toc_section_display": true,
   "toc_window_display": false
  },
  "varInspector": {
   "cols": {
    "lenName": 16,
    "lenType": 16,
    "lenVar": 40
   },
   "kernels_config": {
    "python": {
     "delete_cmd_postfix": "",
     "delete_cmd_prefix": "del ",
     "library": "var_list.py",
     "varRefreshCmd": "print(var_dic_list())"
    },
    "r": {
     "delete_cmd_postfix": ") ",
     "delete_cmd_prefix": "rm(",
     "library": "var_list.r",
     "varRefreshCmd": "cat(var_dic_list()) "
    }
   },
   "types_to_exclude": [
    "module",
    "function",
    "builtin_function_or_method",
    "instance",
    "_Feature"
   ],
   "window_display": false
  }
 },
 "nbformat": 4,
 "nbformat_minor": 5
}
